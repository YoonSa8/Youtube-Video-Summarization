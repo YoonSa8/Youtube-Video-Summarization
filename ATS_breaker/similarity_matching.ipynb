{
 "cells": [
  {
   "cell_type": "markdown",
   "metadata": {},
   "source": [
    "I will use 3 ways \n",
    "1- TF-IDF + cosine similarity\n",
    "2- SBERT \n",
    "3- OpenAI"
   ]
  },
  {
   "cell_type": "code",
   "execution_count": 1,
   "metadata": {},
   "outputs": [],
   "source": [
    "import pandas as pd\n",
    "from sklearn.feature_extraction.text import TfidfVectorizer\n",
    "from sklearn.metrics.pairwise import cosine_similarity"
   ]
  },
  {
   "cell_type": "code",
   "execution_count": 2,
   "metadata": {},
   "outputs": [],
   "source": [
    "df_cvs = pd.read_csv(\"parsed_cvs.csv\")\n",
    "df_jobs = pd.read_csv(\"job_scrapped.csv\")"
   ]
  },
  {
   "cell_type": "code",
   "execution_count": 6,
   "metadata": {},
   "outputs": [
    {
     "name": "stdout",
     "output_type": "stream",
     "text": [
      "Job Title                          Software Engineer, AI Intern (Summer 2025)  ...  Data Scientist (L5) - Product Promotion & Algorithm Performance\n",
      "filename                                                                       ...                                                                 \n",
      "Abiral_Pandey_Fullstack_Java.docx                                    0.262686  ...                                           0.305367              \n",
      "Achyuth Resume_8.docx                                                0.272755  ...                                           0.323314              \n",
      "Adelina_Erimia_PMP1.docx                                             0.227668  ...                                           0.284344              \n",
      "Adhi Gopalam - SM.docx                                               0.311761  ...                                           0.367408              \n",
      "AjayKumar.docx                                                       0.328151  ...                                           0.408625              \n",
      "\n",
      "[5 rows x 35 columns]\n"
     ]
    }
   ],
   "source": [
    "df_cvs['cv_text']= df_cvs['cv_text'].str.lower()\n",
    "df_jobs['Description']= df_jobs['Description'].str.lower()\n",
    "\n",
    "# Combine all job descriptions into one list\n",
    "job_texts = df_jobs[\"Description\"].tolist()\n",
    "\n",
    "# Initialize TF-IDF Vectorizer\n",
    "vectorizer = TfidfVectorizer()\n",
    "\n",
    "# Fit the vectorizer on both job descriptions & CVs\n",
    "tfidf_matrix = vectorizer.fit_transform(job_texts + df_cvs[\"cv_text\"].tolist())\n",
    "\n",
    "# Split into job and CV vectors\n",
    "job_vectors = tfidf_matrix[:len(job_texts)]\n",
    "cv_vectors = tfidf_matrix[len(job_texts):]\n",
    "\n",
    "# Compute cosine similarity (CV vs Job Descriptions)\n",
    "similarity_matrix = cosine_similarity(cv_vectors, job_vectors)\n",
    "\n",
    "# Convert to DataFrame for better visualization\n",
    "similarity_df = pd.DataFrame(similarity_matrix, index=df_cvs[\"filename\"], columns=df_jobs[\"Job Title\"])\n",
    "\n",
    "# Save results\n",
    "similarity_df.to_csv(\"cv_job_similarity_scores.csv\")\n",
    "\n",
    "# Show results\n",
    "print(similarity_df.head())"
   ]
  },
  {
   "cell_type": "code",
   "execution_count": 7,
   "metadata": {},
   "outputs": [
    {
     "name": "stdout",
     "output_type": "stream",
     "text": [
      "                                                                            Top CV  Similarity Score\n",
      "Software Engineer, AI Intern (Summer 2025)          Srivatsan_Project_Manager.docx          0.341067\n",
      "Software Engineer, AI Intern (Summer 2025).1        Srivatsan_Project_Manager.docx          0.341067\n",
      "Full-Stack Software Engineer (New graduates: Un...          Komala BSA Resume.docx          0.414860\n",
      "Software Engineer I/II                                    Siddhartha Gandroju.docx          0.315599\n",
      "Software Engineer                                           Komala BSA Resume.docx          0.349139\n",
      "Software Engineer.1                                 Srivatsan_Project_Manager.docx          0.527066\n",
      "Software Engineer.2                                 Srivatsan_Project_Manager.docx          0.373392\n",
      "Software Engineer - New Grad                                Komala BSA Resume.docx          0.443737\n",
      "Software Engineer.3                                 Srivatsan_Project_Manager.docx          0.382605\n",
      "Software Engineer I (Full Time) United States       Srivatsan_Project_Manager.docx          0.354833\n",
      "Software Engineer.4                                 Srivatsan_Project_Manager.docx          0.527066\n",
      "Software Engineer - Front-end                                      Haarika_BA.docx          0.410778\n",
      "Software Engineer - Applications                                 Vikash_BA_Ab.docx          0.407797\n",
      "Software Engineer - New Grad.1                      Anil Krishna Mogalaturthi.docx          0.269463\n",
      "Front End Software Engineer                                          mohid_rj.docx          0.326752\n",
      "Software Engineer, Front End                                     Vikash_BA_Ab.docx          0.319015\n",
      "Front End Software Engineer.1                                        mohid_rj.docx          0.326752\n",
      "Software Engineer.5                                 Srivatsan_Project_Manager.docx          0.527066\n",
      "Software Engineer, Frontend                                          harish S.docx          0.340713\n",
      "Junior Full Stack Software Engineer (JAVA)          Anil Krishna Mogalaturthi.docx          0.380028\n",
      "Data Scientist - Bellevue                           Srivatsan_Project_Manager.docx          0.367661\n",
      "Data Scientist (L4) - Growth and Membership         Srivatsan_Project_Manager.docx          0.423675\n",
      "Research Scientist                                  Srivatsan_Project_Manager.docx          0.368438\n",
      "Data Scientist, Healthcare - Remote                 Srivatsan_Project_Manager.docx          0.390709\n",
      "Data Scientist - Risk Management                    Srivatsan_Project_Manager.docx          0.424759\n",
      "Data Scientist                                      Srivatsan_Project_Manager.docx          0.516483\n",
      "AI Predictive Machine Learning Engineer                         Safia_Hamdy-88.pdf          0.430427\n",
      "Decision Scientist (Hybrid Role - New York)         Srivatsan_Project_Manager.docx          0.579910\n",
      "AI Predictive Machine Learning Engineer.1                       Safia_Hamdy-88.pdf          0.430427\n",
      "Data Scientist, Product, Insights, and Analytics    Srivatsan_Project_Manager.docx          0.452030\n",
      "Analytical Research Scientist                                       AjayKumar.docx          0.396917\n",
      "Data Scientist.1                                            Komala BSA Resume.docx          0.435044\n",
      "Jr Research Formulation Scientist                   Srivatsan_Project_Manager.docx          0.335893\n",
      "Data Scientist.2                                                    Yohan BSA.docx          0.272659\n",
      "Data Scientist (L5) - Product Promotion & Algor...  Srivatsan_Project_Manager.docx          0.423147\n"
     ]
    }
   ],
   "source": [
    "# Load similarity scores\n",
    "similarity_df = pd.read_csv(\"cv_job_similarity_scores.csv\", index_col=0)\n",
    "\n",
    "# Find the highest-matching CV for each job\n",
    "top_matches = {}\n",
    "\n",
    "for job in similarity_df.columns:\n",
    "    sorted_cvs = similarity_df[job].sort_values(ascending=False)  # Sort CVs by similarity\n",
    "    top_cv = sorted_cvs.index[0]  # Get the best match\n",
    "    top_score = sorted_cvs.iloc[0]  # Get the highest similarity score\n",
    "    top_matches[job] = {\"Top CV\": top_cv, \"Similarity Score\": top_score}\n",
    "\n",
    "# Convert to DataFrame for better visualization\n",
    "df_top_matches = pd.DataFrame.from_dict(top_matches, orient=\"index\")\n",
    "\n",
    "# Save results\n",
    "df_top_matches.to_csv(\"top_matched_cvs.csv\")\n",
    "\n",
    "# Show results\n",
    "print(df_top_matches)"
   ]
  },
  {
   "cell_type": "code",
   "execution_count": null,
   "metadata": {},
   "outputs": [],
   "source": []
  }
 ],
 "metadata": {
  "kernelspec": {
   "display_name": "env",
   "language": "python",
   "name": "python3"
  },
  "language_info": {
   "codemirror_mode": {
    "name": "ipython",
    "version": 3
   },
   "file_extension": ".py",
   "mimetype": "text/x-python",
   "name": "python",
   "nbconvert_exporter": "python",
   "pygments_lexer": "ipython3",
   "version": "3.11.2"
  }
 },
 "nbformat": 4,
 "nbformat_minor": 2
}
