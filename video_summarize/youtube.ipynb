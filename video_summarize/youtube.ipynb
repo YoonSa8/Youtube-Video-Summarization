{
 "cells": [
  {
   "cell_type": "code",
   "execution_count": 3,
   "metadata": {},
   "outputs": [],
   "source": [
    "import streamlit as st\n",
    "from youtube_transcript_api import YouTubeTranscriptApi, TranscriptsDisabled, NoTranscriptFound\n",
    "from nltk.tokenize import word_tokenize\n",
    "from nltk.corpus import stopwords\n",
    "from nltk.stem import WordNetLemmatizer\n",
    "from sklearn.feature_extraction.text import CountVectorizer\n",
    "from sklearn.decomposition import LatentDirichletAllocation\n",
    "from transformers import pipeline\n",
    "from textblob import TextBlob\n",
    "import re\n",
    "import nltk"
   ]
  },
  {
   "cell_type": "code",
   "execution_count": 10,
   "metadata": {},
   "outputs": [
    {
     "name": "stderr",
     "output_type": "stream",
     "text": [
      "[nltk_data] Downloading package punkt to\n",
      "[nltk_data]     C:\\Users\\oem\\AppData\\Roaming\\nltk_data...\n",
      "[nltk_data]   Package punkt is already up-to-date!\n",
      "[nltk_data] Downloading package stopwords to\n",
      "[nltk_data]     C:\\Users\\oem\\AppData\\Roaming\\nltk_data...\n",
      "[nltk_data]   Package stopwords is already up-to-date!\n",
      "[nltk_data] Downloading package wordnet to\n",
      "[nltk_data]     C:\\Users\\oem\\AppData\\Roaming\\nltk_data...\n",
      "[nltk_data]   Package wordnet is already up-to-date!\n"
     ]
    },
    {
     "data": {
      "text/plain": [
       "True"
      ]
     },
     "execution_count": 10,
     "metadata": {},
     "output_type": "execute_result"
    }
   ],
   "source": [
    "# Ensure that necessary NLTK data is downloaded\n",
    "nltk.download('punkt')\n",
    "nltk.download('stopwords')\n",
    "nltk.download('wordnet')"
   ]
  },
  {
   "cell_type": "code",
   "execution_count": 5,
   "metadata": {},
   "outputs": [],
   "source": [
    "#text summarization function\n",
    "def summarize_text(text, max_length=100000):\n",
    "    summarization_pipeline = pipeline(\"summarization\")\n",
    "    summary = summarization_pipeline(text, max_length=max_length, min_length=50, do_sample=False)\n",
    "    return summary[0]['summary_text']"
   ]
  },
  {
   "cell_type": "code",
   "execution_count": 6,
   "metadata": {},
   "outputs": [],
   "source": [
    "import numpy as np\n",
    "#extract keywords \n",
    "def extract_keywords(text):\n",
    "    #use text cleaning techniques \n",
    "    stop_words = set(stopwords.words('english'))\n",
    "    lemmatizer = WordNetLemmatizer()\n",
    "\n",
    "    #start with tokenization\n",
    "    words= word_tokenize(text)\n",
    "    #second step is lematizarion\n",
    "    words = [lemmatizer.lemmatize(word.lower()) for word in words if word.isalnum()]\n",
    "    #get keywords\n",
    "    keywords = [word for word in words if word not in stop_words and len(word) > 1]\n",
    "    # Create CountVectorizer and fit-transform the text\n",
    "    vectorizer = CountVectorizer()\n",
    "    counter = vectorizer.fit_transform(keywords)\n",
    "    # Extract the vocabulary (word-to-index mapping)\n",
    "    vocabulary = vectorizer.vocabulary_\n",
    "\n",
    "    # Get word frequencies (sum across columns)\n",
    "    word_frequencies = np.array(counter.sum(axis=0)).flatten()\n",
    "\n",
    "    # Create a dictionary mapping words to their frequencies\n",
    "    word_freq_dict = {word: word_frequencies[idx] for word, idx in vocabulary.items()}\n",
    "\n",
    "    # Sort words by frequency in descending order\n",
    "    top_keywords = sorted(word_freq_dict, key=word_freq_dict.get, reverse=True)[:5]\n",
    "    return top_keywords"
   ]
  },
  {
   "cell_type": "code",
   "execution_count": 7,
   "metadata": {},
   "outputs": [],
   "source": [
    "def topic_modeling(text):\n",
    "    vectorizer = CountVectorizer(max_df=0.95, min_df=0.05, stop_words='english')\n",
    "    tf = vectorizer.fit_transform([text])\n",
    "    lda_model = LatentDirichletAllocation(n_components=5, max_iter=5, learning_method='online', random_state=42)\n",
    "    lda_model.fit(tf)\n",
    "    feature_names = vectorizer.get_feature_names_out()\n",
    "    topics = []\n",
    "    for topic_idx, topic in enumerate(lda_model.components_):\n",
    "        topics.append([feature_names[i] for i in topic.argsort()[:-6:-1]])  # Top 5 words for each topic\n",
    "    return topics"
   ]
  },
  {
   "cell_type": "code",
   "execution_count": 8,
   "metadata": {},
   "outputs": [],
   "source": [
    "def extract_video_id(url):\n",
    "    video_id = None\n",
    "    patterns = [\n",
    "        r'v=([^&]+)',  # Pattern for URLs with 'v=' parameter\n",
    "        r'youtu.be/([^?]+)',  # Pattern for shortened URLs\n",
    "        r'youtube.com/embed/([^?]+)'  # Pattern for embed URLs\n",
    "    ]\n",
    "    for pattern in patterns:\n",
    "        match = re.search(pattern, url)\n",
    "        if match:\n",
    "            video_id = match.group(1)\n",
    "            break\n",
    "    return video_id"
   ]
  },
  {
   "cell_type": "code",
   "execution_count": null,
   "metadata": {},
   "outputs": [],
   "source": []
  }
 ],
 "metadata": {
  "kernelspec": {
   "display_name": "env",
   "language": "python",
   "name": "python3"
  },
  "language_info": {
   "codemirror_mode": {
    "name": "ipython",
    "version": 3
   },
   "file_extension": ".py",
   "mimetype": "text/x-python",
   "name": "python",
   "nbconvert_exporter": "python",
   "pygments_lexer": "ipython3",
   "version": "3.11.2"
  }
 },
 "nbformat": 4,
 "nbformat_minor": 2
}
