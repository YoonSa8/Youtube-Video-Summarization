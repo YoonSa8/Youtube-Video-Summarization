{
 "cells": [
  {
   "cell_type": "code",
   "execution_count": 1,
   "metadata": {},
   "outputs": [],
   "source": [
    "import requests\n",
    "import pandas as pd\n",
    "\n",
    "# Base URL for FAOSTAT API\n",
    "BASE_URL = \"https://api.fao.org/data/1.0/data/\"\n",
    "\n",
    "def fetch_faostat_data(domain, params, dataset_name):\n",
    "    url = f\"{BASE_URL}{domain}\"\n",
    "    response = requests.get(url, params=params)\n",
    "    \n",
    "    if response.status_code == 200:\n",
    "        data = response.json()  \n",
    "        df = pd.DataFrame(data.get(\"data\", []))\n",
    "        df.to_csv(f\"{dataset_name}.csv\", index=False)\n",
    "        return df\n",
    "    else:\n",
    "        print(f\"Error fetching {dataset_name}: {response.status_code}\")\n",
    "        return pd.DataFrame()"
   ]
  },
  {
   "cell_type": "code",
   "execution_count": 2,
   "metadata": {},
   "outputs": [
    {
     "name": "stdout",
     "output_type": "stream",
     "text": [
      "Error fetching Food_Security_Indicators: 404\n"
     ]
    }
   ],
   "source": [
    "params_security = {\n",
    "    \"area\": \"all\", \n",
    "    \"year\": \"2015-2020\",\n",
    "    \"item\": \"Calories per capita\",\n",
    "}\n",
    "food_security_df = fetch_faostat_data(domain=\"FB\", params=params_security, dataset_name=\"Food_Security_Indicators\")\n"
   ]
  }
 ],
 "metadata": {
  "kernelspec": {
   "display_name": "Python 3",
   "language": "python",
   "name": "python3"
  },
  "language_info": {
   "codemirror_mode": {
    "name": "ipython",
    "version": 3
   },
   "file_extension": ".py",
   "mimetype": "text/x-python",
   "name": "python",
   "nbconvert_exporter": "python",
   "pygments_lexer": "ipython3",
   "version": "3.11.2"
  }
 },
 "nbformat": 4,
 "nbformat_minor": 2
}
